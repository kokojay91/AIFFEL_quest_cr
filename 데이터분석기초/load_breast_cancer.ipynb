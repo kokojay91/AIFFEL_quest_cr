{
  "nbformat": 4,
  "nbformat_minor": 0,
  "metadata": {
    "colab": {
      "provenance": [],
      "authorship_tag": "ABX9TyPoQi3D4hjEi9FkF1dMXU77",
      "include_colab_link": true
    },
    "kernelspec": {
      "name": "python3",
      "display_name": "Python 3"
    },
    "language_info": {
      "name": "python"
    }
  },
  "cells": [
    {
      "cell_type": "markdown",
      "metadata": {
        "id": "view-in-github",
        "colab_type": "text"
      },
      "source": [
        "<a href=\"https://colab.research.google.com/github/kokojay91/AIFFEL_quest_cr/blob/main/%EB%8D%B0%EC%9D%B4%ED%84%B0%EB%B6%84%EC%84%9D%EA%B8%B0%EC%B4%88/load_breast_cancer.ipynb\" target=\"_parent\"><img src=\"https://colab.research.google.com/assets/colab-badge.svg\" alt=\"Open In Colab\"/></a>"
      ]
    },
    {
      "cell_type": "code",
      "execution_count": 4,
      "metadata": {
        "id": "CBooJFjucQ65"
      },
      "outputs": [],
      "source": [
        "#  필요한 모듈 import하기\n",
        "from sklearn.datasets import load_breast_cancer\n",
        "from sklearn.model_selection import train_test_split\n",
        "from sklearn.metrics import accuracy_score, classification_report\n",
        "from sklearn.tree import DecisionTreeClassifier\n",
        "from sklearn.ensemble import RandomForestClassifier\n",
        "from sklearn.svm import SVC\n",
        "from sklearn.linear_model import SGDClassifier, LogisticRegression\n",
        "import pandas as pd"
      ]
    },
    {
      "cell_type": "code",
      "source": [
        "# 데이터 준비\n",
        "data = load_breast_cancer()"
      ],
      "metadata": {
        "id": "wsETa83GcVcn"
      },
      "execution_count": 5,
      "outputs": []
    },
    {
      "cell_type": "code",
      "source": [
        "#  데이터 이해하기\n",
        "# data 지정\n",
        "X = data.data # Feature\n",
        "y = data.target # Label"
      ],
      "metadata": {
        "id": "wWlip-3ndkw4"
      },
      "execution_count": 6,
      "outputs": []
    },
    {
      "cell_type": "code",
      "source": [
        "#  train, test 데이터 분리\n",
        "X_train, X_test, y_train, y_test = train_test_split(X, y, test_size=0.2, random_state=7)"
      ],
      "metadata": {
        "id": "IHinnTkudlJ-"
      },
      "execution_count": 7,
      "outputs": []
    },
    {
      "cell_type": "code",
      "source": [
        "# Target Names 출력\n",
        "print(\"Target Names:\", data.target_names)"
      ],
      "metadata": {
        "colab": {
          "base_uri": "https://localhost:8080/"
        },
        "id": "roH5mYBQdlNh",
        "outputId": "0d83a91c-4c19-40f9-cd35-47be785c62a2"
      },
      "execution_count": 8,
      "outputs": [
        {
          "output_type": "stream",
          "name": "stdout",
          "text": [
            "Target Names: ['malignant' 'benign']\n"
          ]
        }
      ]
    },
    {
      "cell_type": "code",
      "source": [
        "# 데이터 Describe\n",
        "print(df.describe())"
      ],
      "metadata": {
        "id": "DRk1KfK7BmZh"
      },
      "execution_count": null,
      "outputs": []
    },
    {
      "cell_type": "code",
      "source": [
        "# Target 데이터 요약\n",
        "print(pd.Series(data.target).value_counts())\n",
        "print(data.target_names)"
      ],
      "metadata": {
        "colab": {
          "base_uri": "https://localhost:8080/"
        },
        "id": "DvUfxJvphOnT",
        "outputId": "950357b1-3773-473c-8554-461f2d2cfc49"
      },
      "execution_count": 11,
      "outputs": [
        {
          "output_type": "stream",
          "name": "stdout",
          "text": [
            "1    357\n",
            "0    212\n",
            "Name: count, dtype: int64\n",
            "['malignant' 'benign']\n"
          ]
        }
      ]
    },
    {
      "cell_type": "markdown",
      "source": [],
      "metadata": {
        "id": "tIflcEcfk41m"
      }
    },
    {
      "cell_type": "code",
      "source": [
        "# Decision Tree 학습\n",
        "decision_tree = DecisionTreeClassifier(random_state=7)\n",
        "decision_tree.fit(X_train, y_train)  # 모델 학습\n",
        "y_pred_tree = decision_tree.predict(X_test)  # 예측\n",
        "print(\"Decision Tree Accuracy:\", accuracy_score(y_test, y_pred_tree))  # 평가\n",
        "print(classification_report(y_test, y_pred_tree, target_names=data.target_names))\n",
        "\n",
        "# Random Forest 학습\n",
        "random_forest = RandomForestClassifier(random_state=7)\n",
        "random_forest.fit(X_train, y_train)  # 모델 학습\n",
        "y_pred_forest = random_forest.predict(X_test)  # 예측\n",
        "print(\"Random Forest Accuracy:\", accuracy_score(y_test, y_pred_forest))  # 평가\n",
        "print(classification_report(y_test, y_pred_forest, target_names=data.target_names))\n",
        "\n",
        "# SVM 학습\n",
        "svm = SVC(random_state=7)\n",
        "svm.fit(X_train, y_train)  # 모델 학습\n",
        "y_pred_svm = svm.predict(X_test)  # 예측\n",
        "print(\"SVM Accuracy:\", accuracy_score(y_test, y_pred_svm))  # 평가\n",
        "print(classification_report(y_test, y_pred_svm, target_names=data.target_names))\n",
        "\n",
        "# SGD Classifier 학습\n",
        "sgd_classifier = SGDClassifier(random_state=7, max_iter=1000, tol=1e-3)\n",
        "sgd_classifier.fit(X_train, y_train)  # 모델 학습\n",
        "y_pred_sgd = sgd_classifier.predict(X_test)  # 예측\n",
        "print(\"SGD Classifier Accuracy:\", accuracy_score(y_test, y_pred_sgd))  # 평가\n",
        "print(classification_report(y_test, y_pred_sgd, target_names=data.target_names))\n",
        "\n",
        "# Logistic Regression 학습\n",
        "logistic_regression = LogisticRegression(random_state=7, max_iter=1600)\n",
        "logistic_regression.fit(X_train, y_train)  # 모델 학습\n",
        "y_pred_logistic = logistic_regression.predict(X_test)  # 예측\n",
        "print(\"Logistic Regression Accuracy:\", accuracy_score(y_test, y_pred_logistic))  # 평가\n",
        "print(classification_report(y_test, y_pred_logistic, target_names=data.target_names))"
      ],
      "metadata": {
        "colab": {
          "base_uri": "https://localhost:8080/"
        },
        "id": "ptKxxjkBhOs6",
        "outputId": "a136757c-3704-422d-9baf-054d771db2c0"
      },
      "execution_count": 12,
      "outputs": [
        {
          "output_type": "stream",
          "name": "stdout",
          "text": [
            "Decision Tree Accuracy: 0.9122807017543859\n",
            "              precision    recall  f1-score   support\n",
            "\n",
            "   malignant       0.92      0.82      0.87        40\n",
            "      benign       0.91      0.96      0.93        74\n",
            "\n",
            "    accuracy                           0.91       114\n",
            "   macro avg       0.91      0.89      0.90       114\n",
            "weighted avg       0.91      0.91      0.91       114\n",
            "\n",
            "Random Forest Accuracy: 0.9736842105263158\n",
            "              precision    recall  f1-score   support\n",
            "\n",
            "   malignant       1.00      0.93      0.96        40\n",
            "      benign       0.96      1.00      0.98        74\n",
            "\n",
            "    accuracy                           0.97       114\n",
            "   macro avg       0.98      0.96      0.97       114\n",
            "weighted avg       0.97      0.97      0.97       114\n",
            "\n",
            "SVM Accuracy: 0.9035087719298246\n",
            "              precision    recall  f1-score   support\n",
            "\n",
            "   malignant       1.00      0.72      0.84        40\n",
            "      benign       0.87      1.00      0.93        74\n",
            "\n",
            "    accuracy                           0.90       114\n",
            "   macro avg       0.94      0.86      0.89       114\n",
            "weighted avg       0.92      0.90      0.90       114\n",
            "\n",
            "SGD Classifier Accuracy: 0.7280701754385965\n",
            "              precision    recall  f1-score   support\n",
            "\n",
            "   malignant       0.56      1.00      0.72        40\n",
            "      benign       1.00      0.58      0.74        74\n",
            "\n",
            "    accuracy                           0.73       114\n",
            "   macro avg       0.78      0.79      0.73       114\n",
            "weighted avg       0.85      0.73      0.73       114\n",
            "\n",
            "Logistic Regression Accuracy: 0.9473684210526315\n",
            "              precision    recall  f1-score   support\n",
            "\n",
            "   malignant       1.00      0.85      0.92        40\n",
            "      benign       0.93      1.00      0.96        74\n",
            "\n",
            "    accuracy                           0.95       114\n",
            "   macro avg       0.96      0.93      0.94       114\n",
            "weighted avg       0.95      0.95      0.95       114\n",
            "\n"
          ]
        }
      ]
    },
    {
      "cell_type": "code",
      "source": [
        "# 모델을 평가해 보기\n",
        "models = {\n",
        "    \"Decision Tree\": decision_tree,\n",
        "    \"Random Forest\": random_forest,\n",
        "    \"SVM\": svm,\n",
        "    \"SGD Classifier\": sgd_classifier,\n",
        "    \"Logistic Regression\": logistic_regression\n",
        "}\n",
        "\n",
        "for model_name, model in models.items():\n",
        "    # 예측값 생성\n",
        "    y_pred = model.predict(X_test)\n",
        "\n",
        "    # 정확도 평가\n",
        "    accuracy = accuracy_score(y_test, y_pred)\n",
        "    print(f\"{model_name} Accuracy:\", accuracy)\n",
        "\n",
        "#  가장 높은 정확도(0.9474)를 나타낸 Random Forest가 가장 나은 모델일 가능성이 크다고 생각함."
      ],
      "metadata": {
        "colab": {
          "base_uri": "https://localhost:8080/"
        },
        "id": "dEnLaIk4ygsz",
        "outputId": "8d1a82c3-4cf2-4505-bf41-eb0476a41768"
      },
      "execution_count": 13,
      "outputs": [
        {
          "output_type": "stream",
          "name": "stdout",
          "text": [
            "Decision Tree Accuracy: 0.9122807017543859\n",
            "Random Forest Accuracy: 0.9736842105263158\n",
            "SVM Accuracy: 0.9035087719298246\n",
            "SGD Classifier Accuracy: 0.7280701754385965\n",
            "Logistic Regression Accuracy: 0.9473684210526315\n"
          ]
        }
      ]
    }
  ]
}